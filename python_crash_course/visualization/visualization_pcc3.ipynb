{
 "cells": [
  {
   "metadata": {},
   "cell_type": "markdown",
   "source": [
    "# 数据可视化\n",
    "## 生成数据\n",
    "### 绘制折线图\n"
   ],
   "id": "ee1c615812689d9a"
  },
  {
   "metadata": {},
   "cell_type": "code",
   "source": [
    "import matplotlib.pyplot as plt #制定别名，以免反复输入pyplot\n",
    "input_values =  [1,2,3,4,5,6,7,8,9,10]\n",
    "lucky_numbers = [1,1,2,3,5,8,13,21,34,55]\n",
    "\n",
    "# 使用内置样式\n",
    "plt.style.use('seaborn') \n",
    "\n",
    "# 变量fig表示由生成的一系列绘图构成的整个图形\n",
    "# 变量ax表示图形中的绘图,在大多数情况下,使用这个变量来定义和定制绘图\n",
    "fig, ax = plt.subplots() # subplots():可在一个图形(figure)中绘制一或多个绘图(plot)\n",
    "# ax.plot(lucky_numbers) \n",
    "# 调用plot(输入值，输出值)：它假设第一个数据点对应的 x 坐标值为 0,但这里的第一个点对应的 x 坐标值应该为 1\n",
    "# 为了改变这种默认行为,可给 plot() 同时提供输入值和输出值\n",
    "ax.plot(input_values, lucky_numbers, linewidth=3)\n",
    "\n",
    "# 设置图题并给坐标轴加上标签 \n",
    "ax.set_title(\"Square Numbers\", fontsize=24)\n",
    "ax.set_xlabel(\"Value\", fontsize=14)   \n",
    "ax.set_ylabel(\"Square of Value\", fontsize=14)    \n",
    "# 设置刻度标记的样式\n",
    "ax.tick_params(labelsize=14)\n",
    "\n",
    "plt.show() # plt.show():打开 Matplotlib 查看器并显示绘图"
   ],
   "id": "fb1d9435832dbcb0",
   "outputs": [],
   "execution_count": null
  },
  {
   "metadata": {},
   "cell_type": "markdown",
   "source": [
    "要看到能在你的系统中使用的所有样式,可在终端会话中执行如下命令: \n",
    " \n",
    "\\>>> import matplotlib.pyplot as plt\n",
    " \n",
    "\\>>> plt.style.available ['Solarize_Light2', '_classic_test_patch', '_mpl-gallery', \n",
    "\n",
    "--snip--"
   ],
   "id": "fb81a69ed8434fd2"
  },
  {
   "metadata": {},
   "cell_type": "markdown",
   "source": "### 绘制散点图",
   "id": "14c8d4fd93cefb56"
  }
 ],
 "metadata": {
  "kernelspec": {
   "display_name": "Python 3",
   "language": "python",
   "name": "python3"
  },
  "language_info": {
   "codemirror_mode": {
    "name": "ipython",
    "version": 2
   },
   "file_extension": ".py",
   "mimetype": "text/x-python",
   "name": "python",
   "nbconvert_exporter": "python",
   "pygments_lexer": "ipython2",
   "version": "2.7.6"
  }
 },
 "nbformat": 4,
 "nbformat_minor": 5
}

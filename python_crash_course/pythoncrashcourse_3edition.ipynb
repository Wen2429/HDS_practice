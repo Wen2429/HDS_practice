{
 "cells": [
  {
   "metadata": {},
   "cell_type": "markdown",
   "source": [
    "# 2 变量和简单的数据类型\n",
    "##  变量\n",
    "变量名只能包含字母、数字和下划线。变量名能以字母或下划线打头,但**不能以数字打头**。\n",
    "\n",
    "变量名**不能包含空格**,但能使用下划线来分隔其中的单词。\n",
    "\n",
    "不要将 Python 关键字和函数名用作变量名。\n",
    "\n",
    "变量名应既简短又具有描述性。\n",
    "\n",
    "慎用小写字母 l 和大写字母 O,因为它们可能被人错看成数字 1 和0。\n",
    "\n",
    "### 修改字符串的大小写"
   ],
   "id": "745cae412ac7e7d4"
  },
  {
   "metadata": {
    "ExecuteTime": {
     "end_time": "2024-09-10T00:00:29.390027Z",
     "start_time": "2024-09-10T00:00:29.386170Z"
    }
   },
   "cell_type": "code",
   "source": [
    "from prometheus_client import values\n",
    "\n",
    "name = \"python course note\"\n",
    "print(name.title())\n",
    "print(name.upper()) \n",
    "print(name.lower())"
   ],
   "id": "edf17c4f3ed39132",
   "outputs": [
    {
     "name": "stdout",
     "output_type": "stream",
     "text": [
      "Python Course Note\n",
      "PYTHON COURSE NOTE\n",
      "python course note\n"
     ]
    }
   ],
   "execution_count": 1
  },
  {
   "metadata": {},
   "cell_type": "markdown",
   "source": [
    "### 在字符串中使用变量\n",
    "format: 使用 f 字符串可以完成很多任务,如利用与变量关联的信息来创建完整的消息"
   ],
   "id": "26dc20bee019c3ce"
  },
  {
   "metadata": {},
   "cell_type": "code",
   "outputs": [],
   "execution_count": null,
   "source": [
    "first_name = \"wen\"\n",
    "last_name = \"wang\"\n",
    "full_name = f\"{first_name} {last_name}\"\n",
    "print(f\"Hello, {full_name.title()}!\")"
   ],
   "id": "f047cc0006f2a816"
  },
  {
   "metadata": {},
   "cell_type": "markdown",
   "source": [
    "### 添加空白\n",
    "制表符  \\t\n",
    "\n",
    "换行符 \\n\n",
    "\n",
    "完整的换行符占一个长度\n",
    "\n",
    "### 删除空白 \n",
    "要确保字符串右端没有空白：name.rstrip() \n",
    "\n",
    "删除字符串左端的空白或同时删除字符串两端的空白：**name.lstrip(); name. strip()**\n",
    "\n",
    "### 删除前缀和后缀\n",
    "name.removeprefix(); name.removesuffix()"
   ],
   "id": "edb04061333f9afb"
  },
  {
   "metadata": {},
   "cell_type": "code",
   "outputs": [],
   "execution_count": null,
   "source": [
    "nostarch_url = \"https://nostarch.com\"\n",
    "simple_url = nostarch_url.removeprefix(\"https://\")\n",
    "print(simple_url)"
   ],
   "id": "5abf06b9efd10492"
  },
  {
   "metadata": {},
   "cell_type": "markdown",
   "source": [
    "## 数\n",
    "在书写很大的数时,可使用下划线将其中的位分组,使其更清晰易读：universe_age = 14_000_000_000 \n",
    "\n",
    "将变量 x、y 和 z 都初始化为零: x, y, z = 0, 0, 0 \n",
    "\n",
    "使用全大写字母来指出应将某个变量视为常量,其值应始终不变: MAX_CONNECTIONS = 5000\n",
    "## 注释 \n",
    "阐述代码要做什么,以及是如何做的"
   ],
   "id": "9e0802c22618e97b"
  },
  {
   "metadata": {},
   "cell_type": "markdown",
   "source": [
    "# 3 列表简介\n",
    "## 列表(list) \n",
    "要访问列表的任何元素,只需将该元素的位置(索引)告诉 Python 即可 \n",
    "\n",
    "**索引从 0 而不是 1 开始** \n",
    "- 通过将索引指定为-1,可让 Python 返回最后一个列表元素\n",
    "\n",
    "- 索引 -2 返回倒数第二个列表元素,索引 -3 返回倒数第三个列表元素,依此类推 \n",
    "\n",
    "- 在发生索引错误却找不到解决办法时,请尝试将列表或其⻓度打印出来。列表可能与你以为的截然不同,在程序对其进行了动态处理时尤其如此。查看列表或其包含的元素数,可帮助你排查这种逻辑错误。\n",
    "- 空list没有空格"
   ],
   "id": "4600e504229087c3"
  },
  {
   "metadata": {},
   "cell_type": "code",
   "source": [
    "names = [\"apple\", \"banana\", \"cherry\"]\n",
    "print(names[0].title())\n",
    "print(names[-1].title())"
   ],
   "id": "628998f12af4cfa9",
   "outputs": [],
   "execution_count": null
  },
  {
   "metadata": {},
   "cell_type": "markdown",
   "source": "### 修改",
   "id": "f23d98fea3fc5d2a"
  },
  {
   "metadata": {},
   "cell_type": "code",
   "outputs": [],
   "execution_count": null,
   "source": [
    "names = [\"apple\", \"banana\", \"cherry\"]\n",
    "print(names)\n",
    "print(len(names))\n",
    "names[0] = \"mango\"\n",
    "print(names)"
   ],
   "id": "6c8a24f5c0311bb7"
  },
  {
   "metadata": {},
   "cell_type": "markdown",
   "source": [
    "### 添加\n",
    "在列表末尾追加元素：names.append(\"orange\")\n",
    "\n",
    "- 可以先创建一个空列表，再使用一系列函数调用append()添加元素\n",
    "\n",
    "在任意位置添加新元素：names.insert(0,lemon)\n",
    "\n",
    "### 删除\n",
    "知道元素索引位置，del语句"
   ],
   "id": "c4cd647a94103bcf"
  },
  {
   "metadata": {},
   "cell_type": "code",
   "outputs": [],
   "execution_count": null,
   "source": [
    "names = [\"apple\", \"banana\", \"cherry\"]\n",
    "print(names)\n",
    "del names[0]\n",
    "print(names)"
   ],
   "id": "323590a793cc3124"
  },
  {
   "metadata": {},
   "cell_type": "markdown",
   "source": [
    "删除列表末尾的元素，并接着使用它的值：popped_names = names.pop()\n",
    "- 假设列表中的元素是按时间存储的，使用pop()打印就可以指出最后添加的是什么：\n",
    "print(f\"The last fruit I ate was a {popped_names.title()}.\")\n",
    "\n",
    "删除任意位置的元素，需要在括号里填写索引：second_ate = names.pop(1)\n",
    "\n",
    "不知索引位置，但知道元素的值，可用remove()：too_often = \"apple\";names.remove(too_often)\n",
    "\n",
    "- **!remove()只能删除第一个指定的值。如果要删除的值可能在列表中出现多次,就需要使用循环,确保将每个值都删除。**\n",
    "\n",
    "## 管理列表\n",
    "### sort()永久排序\n",
    "\n",
    "能永久地修改列表元素的排列顺序,并按字母顺序排列（假设都是全小写）：names.sort()\n",
    "\n",
    "按与字母顺序相反的顺序排列列表元素：names.sort(reverse=True)\n",
    "\n",
    "### sorted()临时排序\n",
    "print(\"Here is the original list:\")\n",
    "\n",
    "print(names)\n",
    "\n",
    "print(\"\\nHere is the sorted list:\")\n",
    "\n",
    "print(sorted(names))\n",
    "\n",
    "print(\"\\nHere is the original list again:\")   \n",
    "\n",
    "print(names)\n",
    "\n",
    "**!在并非所有的值都是全小写的时,按字母顺序排列列表要复杂一些**\n",
    "\n",
    "### 反向打印列表\n",
    "反转列表元素的排列顺序：cars.reverse() \n",
    "\n",
    "永久地修改列表元素的排列顺序,但可随时恢复到原来的排列顺序,只需对列表再次调用 reverse() 即可。 \n",
    "\n",
    "### 确定列表的⻓度 len(names)\n",
    "明确还有多少个外星人未被消灭,确定需要管理多少项可视化数据,计算网站有多少注册用户\n",
    "\n",
    "**！Python 在计算列表元素数时从 1 开始,因此在确定列表⻓度时不会遇到差一错误。**\n",
    "\n",
    "**!在发生索引错误却找不到解决办法时,请尝试将列表或其⻓度打印出来。列表可能与你以为的截然不同,在程序对其进行了动态处理时尤其如此。查看列表或其包含的元素数,可帮助你排查这种逻辑错误。**\n",
    "\n",
    "statistics.mean([])\n",
    "\n",
    "random.choice([])\n",
    "\n",
    "random.sample(names,3)\n",
    "\n",
    "random.sample(range(),3)\n",
    "\n",
    "name = 'Wen Chi chi'\n",
    "name.split(' ',2)"
   ],
   "id": "2c31b45b8adebed9"
  },
  {
   "metadata": {},
   "cell_type": "markdown",
   "source": [
    "# 4 操作列表 \n",
    "\n",
    "## 遍历整个列表"
   ],
   "id": "3a71995c16baac15"
  },
  {
   "metadata": {},
   "cell_type": "code",
   "source": [
    "names = [\"apple\", \"banana\", \"cherry\"]\n",
    "for name in names:\n",
    "    print(name)\n",
    "    print(f\"{name.title()}, that was what I ate yesterday!\")\n",
    "# 在 for 循环后面,没有缩进的代码都只执行一次,不会重复执行。 \n",
    "print(\"Don't forget eat fruit today!\")"
   ],
   "id": "c3b85734e475b117",
   "outputs": [],
   "execution_count": null
  },
  {
   "metadata": {},
   "cell_type": "markdown",
   "source": [
    "**!避免缩进错误和遗漏冒号**\n",
    "\n",
    "## 创建数值列表\n",
    "### range()函数\n",
    "让Python从指定的第一个值开始数,并在到达指定的第二个值时停止,因此输出不包含第二个值--要打印数 1〜5,需要使用 range(1,6)"
   ],
   "id": "c66d293a36321f05"
  },
  {
   "metadata": {},
   "cell_type": "code",
   "outputs": [],
   "execution_count": null,
   "source": [
    "for value in range(1,6):\n",
    "    print(value)"
   ],
   "id": "d1a21b4e04f64d39"
  },
  {
   "metadata": {},
   "cell_type": "markdown",
   "source": [
    "要创建数值列表,可使用 list() 函数将 range() 的结果直接转换为列表。\n",
    "\n",
    "还可指定步⻓:range() 函数从 2 开始数,然后不断地加 2,直到达到或超过终值(11) "
   ],
   "id": "ef0549e2dc7d6d23"
  },
  {
   "metadata": {},
   "cell_type": "code",
   "outputs": [],
   "execution_count": null,
   "source": [
    "numbers = list(range(1,5))\n",
    "print(numbers)\n",
    "even_numbers = list(range(2,11,2))\n",
    "print(even_numbers)"
   ],
   "id": "e4403e0e0ca794f8"
  },
  {
   "metadata": {},
   "cell_type": "code",
   "source": [
    "squares = []\n",
    "for value in range(1,11):\n",
    "    square = value**2\n",
    "    squares.append(square)\n",
    "\n",
    "print(squares)"
   ],
   "id": "6da2442e25130027",
   "outputs": [],
   "execution_count": null
  },
  {
   "metadata": {},
   "cell_type": "code",
   "outputs": [],
   "execution_count": null,
   "source": [
    "squares = []\n",
    "for value in range(1,11):\n",
    "    squares.append(value**2)\n",
    "\n",
    "print(squares)"
   ],
   "id": "a5a34d8bca5ffdf8"
  },
  {
   "metadata": {},
   "cell_type": "markdown",
   "source": [
    "### 数值列表中的最大值、最小值和总和\n",
    "min(numbers); max(numbers); sum(numbers)\n",
    "### 列表推导式(list comprehension) \n",
    "\n",
    "将 for 循环和创建新元素的代码合并成一行,并自动追加新元素。"
   ],
   "id": "ce386d368d67656"
  },
  {
   "metadata": {},
   "cell_type": "code",
   "outputs": [],
   "execution_count": null,
   "source": [
    "squares = [value**2 for value in range(1,11)]\n",
    "print(squares)"
   ],
   "id": "d49c40b7f23ee2d8"
  },
  {
   "metadata": {},
   "cell_type": "markdown",
   "source": [
    "## 使用列表的一部分\n",
    "### 切片slice\n",
    "指定要使用的第一个元素和最后一个元素的索引\n",
    "\n",
    "如果没有指定第一个索引,Python 将自动从列表开头开始\n",
    "\n",
    "要提取从第三个元素到列表末尾的所有元素,可将起始索引指定为 2,并省略终止索引\n",
    "\n",
    "如果要输出名单上最后三名队员的名字,可将起始索引指定为-3\n",
    "\n",
    "如果要遍历列表的部分元素,可在 for 循环中使用切片\n",
    "\n",
    "复制列表：创建一个包含整个列表的切片,同时省略起始索引和终止索引\n",
    "\n",
    "**!与range() 函数一样,Python 在到达指定的第二个索引之前的元素时停止。**\n",
    "要输出列表中的前三个元素,需要指定索引 0 和 3,这将返回索引分别为0、1 和 2 的元素。"
   ],
   "id": "185290b8a4737526"
  },
  {
   "metadata": {},
   "cell_type": "code",
   "source": [
    "names = [\"apple\",\"banana\",\"cherry\",\"mango\",\"lemon\"]\n",
    "print(names[0:3])\n",
    "print(names[:4])\n",
    "print(names[2:])\n",
    "print(names[-3:])\n",
    "print(\"Here are the first three fruit I have eaten today:\")\n",
    "for name in names[0:3]:\n",
    "    print(name.title())\n",
    "friends_fruits = names[:]\n",
    "print(friends_fruits)\n",
    "names.append(\"orange\")\n",
    "print(names)\n",
    "friends_fruits.append(\"coconut\")\n",
    "print(friends_fruits)"
   ],
   "id": "21b6fd660a8b03a7",
   "outputs": [],
   "execution_count": null
  },
  {
   "metadata": {},
   "cell_type": "markdown",
   "source": [
    "## 元组(tuple)\n",
    "\n",
    "### 定义\n",
    "不可变的列表称为元组(tuple)：dimensions = (200,50) \n",
    "\n",
    "严格地说,元组是由逗号标识的,圆括号只是让元组看起来更整洁、更清晰。如果你要定义只包含一个元素的元组,必须在这个元素后面加上逗号 \n",
    "\n",
    "创建只包含一个元素的元组通常没有意义,但自动生成的元组有可能只有一个元素。 \n",
    "\n",
    "### 遍历元组中的所有值\n",
    "for dimension in dimensions:\n",
    "\n",
    "### 修改元组变量\n",
    "重新定义整个元组，重新赋值即可"
   ],
   "id": "96aca2037ab8430a"
  },
  {
   "metadata": {},
   "cell_type": "markdown",
   "source": [
    "# 5 if 语句\n",
    "## 条件测试\n",
    "### = 赋值；== 相等运算符; != 不等运算符； and/or 多个条件\n",
    "\n",
    "- 在 Python 中检查是否相等时是区分大小写的。可先将变量的值转换为全小写的,再进行比较：\n",
    "\n",
    "car = 'Audi' \n",
    "\n",
    "car.lower() == 'audi' \n",
    "\n",
    "True\n",
    "\n",
    "- lower() 方法不会修改存储在变量中的值,因此进行这样的比较不会影响原来的变量\n",
    "\n",
    "- !网站采用类似的方式让用户输入的数据符合特定的格式。例如,网站可能使用类似的条件测试来确保用户名是独一无二的,而并非只是与另一个用户名的大小写不同:在用户提交新的用户名时,把它转换为全小写的,并与所有既有用户名的小写版本进行比较。执行这种检查,如果已经有用户名 'john'(不管大小写如何),则用户在提交用户名 'John' 时将遭到拒绝。 \n",
    "\n",
    "### 检查特定的值是否在列表中"
   ],
   "id": "7e388e1979439ae7"
  },
  {
   "metadata": {},
   "cell_type": "code",
   "outputs": [],
   "execution_count": null,
   "source": [
    "requested_toppings = ['mushrooms', 'onions', 'pineapple']\n",
    "'peperoni' in requested_toppings"
   ],
   "id": "ed627a1dd09e2013"
  },
  {
   "metadata": {},
   "cell_type": "code",
   "outputs": [],
   "execution_count": null,
   "source": [
    "banned_users = ['andrew', 'carolina', 'david'] \n",
    "user = 'marie'  \n",
    "if user not in banned_users:     \n",
    "    print(f\"{user.title()}, you can post a response if you wish.\") "
   ],
   "id": "a1ea66d46d990cf2"
  },
  {
   "metadata": {},
   "cell_type": "markdown",
   "source": [
    "### 布尔表达式 \n",
    "布尔值通常用于记录条件,如游戏是否正在运行或用户是否可以编辑网站的特定内容: game_active = True; can_edit = False\n",
    "\n",
    "## if 语句\n",
    "if-elif-else\n",
    "\n",
    "while-if-break\n",
    "\n",
    "还可以根据需要使用任意数量的 elif 代码块 \n",
    "\n",
    "Python 并不要求 if-elif 结构后面必须有 else 代码块\n",
    "\n",
    "!else 是一条包罗万象的语句,只要不满足任何 if 或 elif 中的条件测试,其中的代码就会执行。这可能引入无效甚至恶意的数据。如果知道最终要测试的条件,应考虑使用一个 elif 代码块来代替 else 代码块。这样就可以肯定,仅当满足相应的条件时,代码才会执行。\n"
   ],
   "id": "53401de79da6e4da"
  },
  {
   "metadata": {},
   "cell_type": "code",
   "source": [
    "age = 23\n",
    "if age < 18:\n",
    "    print(\"You are too young\")\n",
    "elif age < 25:\n",
    "    print(\"We choose to have you\")\n",
    "else:\n",
    "    print(\"You are too old\")"
   ],
   "id": "4b5c73f5143b2698",
   "outputs": [],
   "execution_count": null
  },
  {
   "metadata": {},
   "cell_type": "markdown",
   "source": [
    "## 使用 if 语句处理列表 \n",
    "检查特殊元素 -- 确定列表非空 -- 使用多个列表\n"
   ],
   "id": "b8657854141ce2e"
  },
  {
   "metadata": {},
   "cell_type": "markdown",
   "source": [
    "# 6 字典\n",
    "## 使用字典\n",
    "字典(dictionary)是一系列键值对 \n",
    "\n",
    "- 与键相关联的值可以是数、字符串、列表乃至字典。事实上,可将任意 Python 对象用作字典中的值。 \n",
    "\n",
    "- 字典用放在花括号({})中的一系列键值对表示, \n",
    "\n",
    "- 键值对包含两个相互关联的值。当你指定键时,Python 将返回与之关联的值。键和值之间用冒号分隔,而键值对之间用逗号分隔。在字典中,你想存储多少个键值对都可以。\n",
    "\n",
    "### 访问字典中的值\n",
    "\n",
    "字典是一种动态结构,可随时在其中添加键值对。 \n",
    "\n",
    "对于字典中不再需要的信息,可使用 del 语句将相应的键值对彻底删除。 在使用 del 语句时,必须指定字典名和要删除的键。 \n",
    "\n",
    "当确定需要使用多行来定义字典时,先在输入左花括号后按回⻋键,再在下一行缩进 4 个空格,指定第一个键值对,并在它后面加上一个逗号。 \n",
    "\n",
    "可使用 get() 方法在指定的键不存在时返回一个默认值。"
   ],
   "id": "b4cb298463e44cd2"
  },
  {
   "metadata": {},
   "cell_type": "code",
   "source": [
    "alien_0 = {}\n",
    "alien_0['color'] = 'blue'\n",
    "alien_0['points'] = 5\n",
    "print(alien_0['color'])\n",
    "new_points = alien_0['points']\n",
    "print(f\"You just get {new_points} points\")\n",
    "alien_0['x_position'] = 0\n",
    "alien_0['y_position'] = 25\n",
    "print(alien_0)\n",
    "del alien_0['color']\n",
    "print(alien_0)\n",
    "color_value = alien_0.get('color','No color value assigned')\n",
    "print(color_value)"
   ],
   "id": "7807ba56e78c815a",
   "outputs": [],
   "execution_count": null
  },
  {
   "metadata": {},
   "cell_type": "markdown",
   "source": [
    "## 遍历字典\n",
    "不需要使用字典中的值： keys(),可省\n",
    "\n",
    "只要值，不含键：values()\n",
    "\n",
    "使用 sorted() 函数来获得按字母顺序排列的键列表的副本\n",
    "\n",
    "为剔除重复项,可使用集合(set),集合中的每个元素都必须是独一无二的\n",
    "\n",
    "tips:可以使用一对花括号直接创建集合,并在其中用逗号分隔元素:  \n",
    "\n",
    "> languages = {'python', 'rust', 'python', 'c'} \n",
    "\n",
    "集合和字典很容易混淆,因为它们都是用一对花括号定义的。当花括号内没有键值对时,定义的很可能是集合。\n",
    "\n"
   ],
   "id": "5377f8b167491e"
  },
  {
   "metadata": {},
   "cell_type": "code",
   "source": [
    "user_0 = {\n",
    "    'username': \"wen\",\n",
    "    'first_name': \"wen\",\n",
    "    'last_name': \"wang\"}\n",
    "\n",
    "for key, value in user_0.items():\n",
    "    print(f'\\nkey: {key}')\n",
    "    print(f'value: {value}')\n",
    "for content in user_0.values():\n",
    "    print(content.title())\n",
    "for name in user_0.keys():\n",
    "    print(name.title())\n",
    "for key in user_0:\n",
    "    print(key.title())\n",
    "\n",
    "favorite_languages = {\n",
    "    'jen': 'python',\n",
    "    'sarah': 'c',\n",
    "    'edward': 'ruby',\n",
    "    'phil': 'python',\n",
    "}\n",
    "friends = [\"phil\",\"john\",\"jack\"]\n",
    "for name in favorite_languages.keys():\n",
    "    print(f\"Hi,{name.title()},\")\n",
    "    if name in friends:\n",
    "        language = favorite_languages[name].title()\n",
    "        print(f'\\tI see you love {language}!')\n",
    "for name in sorted(favorite_languages.keys()):\n",
    "    print(f\"Hi,{name.title()},\")\n",
    "print(\"the following languages have been mentioned:\")\n",
    "for language in set(favorite_languages.values()):\n",
    "    print(language.title())\n"
   ],
   "id": "2a388b6169259c39",
   "outputs": [],
   "execution_count": null
  },
  {
   "metadata": {},
   "cell_type": "markdown",
   "source": [
    "## 嵌套\n",
    "列表和字典的嵌套层级不应太多。"
   ],
   "id": "a0372221940b0688"
  },
  {
   "metadata": {},
   "cell_type": "code",
   "outputs": [],
   "execution_count": null,
   "source": [
    "# 创建一个用于存储外星人的空列表   \n",
    "aliens = []    \n",
    "# 创建 30 个绿色的外星人 \n",
    "for alien_number in range(30):    \n",
    "    new_alien = {'color': 'green', 'points': 5, 'speed': 'slow'}   \n",
    "    aliens.append(new_alien)\n",
    "# 修改前三个外星人 \n",
    "for alien in aliens[:3]:     \n",
    "    if alien['color'] == 'green':         \n",
    "        alien['color'] = 'yellow'         \n",
    "        alien['speed'] = 'medium'         \n",
    "        alien['points'] = 10\n",
    "# 显示前 5 个外星人 \n",
    "for alien in aliens[:5]:       \n",
    "    print(alien)   \n",
    "    print(\"...\")    \n",
    "# 显示创建了多少个外星人   \n",
    "print(f\"Total number of aliens: {len(aliens)}\")\n",
    "\n",
    "# 在字典中存储列表\n",
    "favorite_languages = {       \n",
    "    'jen': ['python', 'rust'],       \n",
    "    'sarah': ['c'],       \n",
    "    'edward': ['rust', 'go'],       \n",
    "    'phil': ['python', 'haskell'],       \n",
    "}\n",
    "for name, languages in favorite_languages.items():       \n",
    "    print(f\"\\n{name.title()}'s favorite languages are:\")    \n",
    "    for language in languages:           \n",
    "        print(f\"\\t{language.title()}\")\n",
    "# 在字典中存储字典\n",
    "users = {       \n",
    "    'aeinstein': {           \n",
    "        'first': 'albert',           \n",
    "        'last': 'einstein',           \n",
    "        'location': 'princeton',           \n",
    "    },        \n",
    "    'mcurie': {           \n",
    "        'first': 'marie',           \n",
    "        'last': 'curie',           \n",
    "        'location': 'paris',           \n",
    "    },        \n",
    "}\n",
    "for username, user_info in users.items():\n",
    "    print(f\"\\nUsername: {username}\")\n",
    "    full_name = f\"{user_info['first']} {user_info['last']}\"\n",
    "    location = user_info['location']\n",
    "    print(f\"\\tFull name: {full_name.title()}\")\n",
    "    print(f\"\\tLocation: {location.title()}\")"
   ],
   "id": "bd511d3f10011644"
  },
  {
   "metadata": {},
   "cell_type": "markdown",
   "source": [
    "# 7 用户输入和 while 循环\n",
    "## input\n",
    "每当使用 input() 函数时,都应指定清晰易懂的提示,准确地指出希望用户提供什么样的信息\n",
    "\n",
    "通过在提示末尾(这里是冒号后面)添加一个空格,可将提示与用户输入分开,让用户清楚地知道其输入始于何处\n",
    "\n",
    "提示可能超过一行,可先将提示赋给一个变量,再将这个变量传递给input() 函数。"
   ],
   "id": "1efc29412b9aab6f"
  },
  {
   "metadata": {},
   "cell_type": "code",
   "outputs": [],
   "execution_count": null,
   "source": [
    "prompt = \"If you share your name, we can personalize the messages you see.\" \n",
    "prompt += \"\\nWhat is your first name? \"  \n",
    "name = input(prompt) \n",
    "print(f\"\\nHello, {name}!\")"
   ],
   "id": "b40ca16eadcdf010"
  },
  {
   "metadata": {},
   "cell_type": "markdown",
   "source": [
    "使用函数 int() 将输入的字符串转换为数值,确保能够成功地执行比较操作\n",
    "\n",
    "even_or_odd.py"
   ],
   "id": "790c4e1a09409e3a"
  },
  {
   "metadata": {},
   "cell_type": "code",
   "outputs": [],
   "execution_count": null,
   "source": [
    "number = input(\"Enter a number, and I'll tell you if it's even or odd: \") \n",
    "number = int(number)  \n",
    "if number % 2 == 0:     \n",
    "    print(f\"\\nThe number {number} is even.\") \n",
    "else:     \n",
    "    print(f\"\\nThe number {number} is odd.\")"
   ],
   "id": "4a9b44ac7a085e83"
  },
  {
   "metadata": {},
   "cell_type": "markdown",
   "source": [
    "## while\n",
    "for 循环是一种遍历列表的有效方式,但不应该在 for 循环中修改列表, 否则将导致 Python 难以跟踪其中的元素。\n",
    "\n",
    "要在遍历列表的同时修改它,可使用 while 循环。通过将 while 循环与列表和字典结合起来使用,可收集、存储并组织大量的输入,供以后查看和使用。\n",
    "\n",
    "！！避免无限循环：如果程序陷入无限循环,既可按 Ctrl + C,也可关闭显示程序输出的终端窗口。\n"
   ],
   "id": "9ecaad7ae76543ba"
  },
  {
   "metadata": {},
   "cell_type": "code",
   "outputs": [],
   "execution_count": null,
   "source": [
    "# 首先,创建一个待验证用户列表   \n",
    "# 和一个用于存储已验证用户的空列表\n",
    "unconfirmed_users = ['alice', 'brian', 'candace']   \n",
    "confirmed_users = []    \n",
    "# 验证每个用户,直到没有未验证用户为止   \n",
    "# 将每个经过验证的用户都移到已验证用户列表中\n",
    "while unconfirmed_users:\n",
    "    current_user = unconfirmed_users.pop()\n",
    "    print(f\"Verifying user: {current_user.title()}\")\n",
    "    confirmed_users.append(current_user)    \n",
    "# 显示所有的已验证用户   \n",
    "print(\"\\nThe following users have been confirmed:\")   \n",
    "for confirmed_user in confirmed_users:      \n",
    "    print(confirmed_user.title())\n",
    "    \n",
    "#删除为特定值的所有列表元素\n",
    "pets = ['dog', 'cat', 'dog', 'goldfish', 'cat', 'rabbit', 'cat'] \n",
    "print(pets)  \n",
    "while 'cat' in pets:     \n",
    "    pets.remove('cat')  \n",
    "print(pets)"
   ],
   "id": "470c324c970fd1a7"
  },
  {
   "metadata": {},
   "cell_type": "markdown",
   "source": "**让用户选择何时退出**",
   "id": "503f18ab034d6f09"
  },
  {
   "metadata": {},
   "cell_type": "code",
   "outputs": [],
   "execution_count": null,
   "source": [
    "prompt = \"\\nTell me something, and I will repeat it back to you:\" \n",
    "prompt += \"\\nEnter 'quit' to end the program. \"  \n",
    "message = \"\" \n",
    "while message != 'quit':     \n",
    "    message = input(prompt)     \n",
    "    if message != 'quit':\n",
    "        print(message)\n",
    "        "
   ],
   "id": "a5d9d22cf1f1e9be"
  },
  {
   "metadata": {},
   "cell_type": "markdown",
   "source": [
    "**标志(flag),充当程序的交通信号灯。**\n",
    "\n",
    "可以让程序在标志为 True 时继续运行,并在任何事件导致标志的值为 False 时让程序停止运行。\n",
    "\n",
    "这样,在 while 语句中就只需检查一个条件:标志的当前值是否为 True。\n",
    "\n",
    "然后将所有测试(是否发生了应将标志设置为 False 的事件)都放在其他地方,从而让程序更整洁。"
   ],
   "id": "d80e73adb6f07c47"
  },
  {
   "metadata": {},
   "cell_type": "code",
   "outputs": [],
   "execution_count": null,
   "source": [
    "# 使用用户输入填充字典\n",
    "responses = {}   \n",
    "# 设置一个标志,指出调查是否继续   \n",
    "polling_active = True    \n",
    "while polling_active:       \n",
    "    # 提示输入被调查者的名字和回答\n",
    "    name = input(\"\\nWhat is your name? \")       \n",
    "    response = input(\"Which mountain would you like to climb someday? \") \n",
    "    # 将回答存储在字典中\n",
    "    responses[name] = response        \n",
    "    # 看看是否还有人要参与调查\n",
    "    repeat = input(\"Would you like to let another person respond? (yes/no) \")       \n",
    "    if repeat == 'no':           \n",
    "        polling_active = False    \n",
    "# 调查结束,显示结果   \n",
    "print(\"\\n--- Poll Results ---\")\n",
    "for name, response in responses.items():       \n",
    "    print(f\"{name} would like to climb {response}.\")"
   ],
   "id": "b76c9a5571a1e518"
  },
  {
   "metadata": {},
   "cell_type": "markdown",
   "source": "所有python循环都可用break退出",
   "id": "a7d34779832de25a"
  },
  {
   "metadata": {},
   "cell_type": "code",
   "outputs": [],
   "execution_count": null,
   "source": [
    "prompt = \"\\nPlease enter the name of a city you have visited:\"   \n",
    "prompt += \"\\n(Enter 'quit' when you are finished.) \"\n",
    "while True:       \n",
    "    city = input(prompt)        \n",
    "    if city == 'quit':           \n",
    "        break       \n",
    "    else:           \n",
    "        print(f\"I'd love to go to {city.title()}!\")"
   ],
   "id": "8959524fc890ee47"
  },
  {
   "metadata": {},
   "cell_type": "markdown",
   "source": "要返回循环开头,并根据条件测试的结果决定是否继续执行循环,可使用continue 语句,它不像 break 语句那样不再执行余下的代码并退出整个循环",
   "id": "a6bb373c21e96679"
  },
  {
   "metadata": {},
   "cell_type": "code",
   "outputs": [],
   "execution_count": null,
   "source": [
    "current_number = 0   \n",
    "while current_number < 10: \n",
    "    current_number += 1       \n",
    "    if current_number % 2 == 0:           \n",
    "        continue        \n",
    "    print(current_number)"
   ],
   "id": "6b6eadca808d019d"
  },
  {
   "metadata": {},
   "cell_type": "markdown",
   "source": [
    "# 8 函数(function)\n",
    "形参(parameter),即函数完成工作所需的信息。实参(argument),即在调用函数时传递给函数的信息。\n",
    "\n",
    "- 使用位置实参,要求实参的顺序与形参的顺序相同;\n",
    "\n",
    "- 使用关键字实参,其中每个实参都由变量名和值组成;\n",
    "\n",
    "- 还可以使用列表和字典。\n",
    "\n",
    "## 函数编写指南\n",
    "在给形参指定默认值时,等号两边不要有空格:  \n",
    "- def function_name(parameter_0, parameter_1='default value') \n",
    "\n",
    "函数调用中的关键字实参也应遵循这种约定:  \n",
    "- function_name(value_0, parameter_1='value') \n",
    "\n",
    "第二行的文本是称为文档字符串(docstring)的注释,描述了函数是做什么的。Python 在为程序中的函数生成文档时,会查找紧跟在函数定义后的字符串。这些字符串通常前后分别用三个双引号引起,能够包含多行。\n",
    "\n",
    "PEP 8 建议代码行的⻓度不要超过 79 个字符。\n"
   ],
   "id": "9fb8bc68a4f3e8a6"
  },
  {
   "metadata": {},
   "cell_type": "code",
   "outputs": [],
   "execution_count": null,
   "source": [
    "def describe_pet(animal_type, pet_name):     \n",
    "    \"\"\"显示宠物的信息\"\"\"     \n",
    "    print(f\"\\nI have a {animal_type}.\")     \n",
    "    print(f\"My {animal_type}'s name is {pet_name.title()}.\")  \n",
    "# 位置实参的顺序很重要\n",
    "describe_pet('harry', 'dog')\n",
    "# 关键字实参\n",
    "describe_pet(animal_type='hamster', pet_name='harry')\n",
    "describe_pet(pet_name='harry', animal_type='hamster')\n",
    "# 默认值\n",
    "def describe_pet_v2(pet_name, animal_type='dog'):     \n",
    "    \"\"\"显示宠物的信息\"\"\"     \n",
    "    print(f\"\\nI have a {animal_type}.\")     \n",
    "    print(f\"My {animal_type}'s name is {pet_name.title()}.\")  \n",
    "describe_pet_v2(pet_name='willie')"
   ],
   "id": "b61b7c222332f0cf"
  },
  {
   "metadata": {},
   "cell_type": "code",
   "outputs": [],
   "execution_count": null,
   "source": [
    "#实参可选\n",
    "def get_formatted_name(first_name, last_name, middle_name=''):       \n",
    "    \"\"\"返回标准格式的姓名\"\"\"   \n",
    "    if middle_name:           \n",
    "        full_name = f\"{first_name} {middle_name} {last_name}\"\n",
    "    else:           \n",
    "        full_name = f\"{first_name} {last_name}\"       \n",
    "    return full_name.title()    \n",
    "musician = get_formatted_name('jimi', 'hendrix')   \n",
    "print(musician)\n",
    "musician = get_formatted_name('john', 'hooker', 'lee')   \n",
    "print(musician)"
   ],
   "id": "ad64388b0053a526"
  },
  {
   "metadata": {},
   "cell_type": "code",
   "outputs": [],
   "execution_count": null,
   "source": [
    "def get_formatted_name(first_name, last_name):     \n",
    "    \"\"\"返回规范格式的姓名\"\"\"     \n",
    "    full_name = f\"{first_name} {last_name}\"     \n",
    "    return full_name.title()  \n",
    "while True:     \n",
    "    print(\"\\nPlease tell me your name:\")     \n",
    "    print(\"(enter 'q' at any time to quit)\")      \n",
    "    f_name = input(\"First name: \")     \n",
    "    if f_name == 'q':         \n",
    "        break      \n",
    "    l_name = input(\"Last name: \")     \n",
    "    if l_name == 'q':         \n",
    "        break      \n",
    "    formatted_name = get_formatted_name(f_name, l_name)     \n",
    "    print(f\"\\nHello, {formatted_name}!\")"
   ],
   "id": "d3b55993b6305b3d"
  },
  {
   "metadata": {},
   "cell_type": "code",
   "outputs": [],
   "execution_count": null,
   "source": [
    "def print_models(unprinted_designs, completed_models):       \n",
    "    \"\"\"       \n",
    "    模拟打印每个设计,直到没有未打印的设计为止       \n",
    "    打印每个设计后,都将其移到列表 completed_models 中       \n",
    "    \"\"\"       \n",
    "    while unprinted_designs:           \n",
    "        current_design = unprinted_designs.pop()           \n",
    "        print(f\"Printing model: {current_design}\")           \n",
    "        completed_models.append(current_design)\n",
    "        \n",
    "def show_completed_models(completed_models):       \n",
    "    \"\"\"显示打印好的所有模型\"\"\"       \n",
    "    print(\"\\nThe following models have been printed:\")       \n",
    "    for completed_model in completed_models:           \n",
    "        print(completed_model)   \n",
    "        \n",
    "unprinted_designs = ['phone case', 'robot pendant', 'dodecahedron']   \n",
    "completed_models = []    \n",
    "print_models(unprinted_designs, completed_models)   \n",
    "show_completed_models(completed_models)"
   ],
   "id": "d2393a3a5bafb34"
  },
  {
   "metadata": {},
   "cell_type": "markdown",
   "source": "将列表的副本传递给函数:  function_name(list_name[:])",
   "id": "af9e67cd091b9cc9"
  },
  {
   "metadata": {},
   "cell_type": "code",
   "outputs": [],
   "execution_count": null,
   "source": [
    "def make_pizza(size, *toppings):     \n",
    "    \"\"\"概述要制作的比萨\"\"\"     \n",
    "    print(f\"\\nMaking a {size}-inch pizza with the following toppings:\")     \n",
    "    for topping in toppings:         \n",
    "        print(f\"- {topping}\")  \n",
    "\n",
    "make_pizza(16, 'pepperoni') \n",
    "make_pizza(12, 'mushrooms', 'green peppers', 'extra cheese')\n",
    "\n",
    "\"\"\"\n",
    "形参名 *toppings 中的星号让 Python 创建一个名为 toppings 的元组, 该元组包含函数收到的所有值。\n",
    "Python 会将实参封装到一个元组中,即便函数只收到一个值也是如此\n",
    "\"\"\""
   ],
   "id": "71e8c83624a20959"
  },
  {
   "metadata": {},
   "cell_type": "code",
   "outputs": [],
   "execution_count": null,
   "source": [
    "def build_profile(first, last, **user_info):       \n",
    "    \"\"\"创建一个字典,其中包含我们知道的有关用户的一切\"\"\"\n",
    "    user_info['first_name'] = first       \n",
    "    user_info['last_name'] = last       \n",
    "    return user_info    \n",
    "\n",
    "user_profile = build_profile('albert', 'einstein',\n",
    "                             location='princeton',\n",
    "                             field='physics')   \n",
    "print(user_profile)\n",
    "\n",
    "\"\"\"\n",
    "形参 **user_info 中的两个星号让 Python 创建一个名为 user_info 的字典,该字典包含函数收到的其他所有名值对。\n",
    "\"\"\""
   ],
   "id": "b8e73374456e85b8"
  },
  {
   "metadata": {},
   "cell_type": "markdown",
   "source": "### ? lambda function",
   "id": "8edd947570024ffc"
  },
  {
   "metadata": {},
   "cell_type": "code",
   "outputs": [],
   "execution_count": null,
   "source": [
    "def calculate_map(patient_records):\n",
    "    return list(map(lambda record: [record[0], record[2] + (record[1] - record[2]) / 3], \n",
    "patient_records))"
   ],
   "id": "425ab37f15ef71ad"
  },
  {
   "metadata": {},
   "cell_type": "markdown",
   "source": [
    "## 导入函数\n",
    "\n",
    "要让函数是可导入的,得先创建模块。\n",
    "\n",
    "模块是扩展名为 .py 的文件,包含要导入程序的代码.\n",
    "\n",
    " - import\n",
    "\n",
    "只导入模块中的特定函数,语法如下:  \n",
    "- from module_name import function_name \n",
    "\n",
    "用逗号分隔函数名,可根据需要从模块中导入任意数量的函数:  \n",
    "- from module_name import function_0, function_1, function_2\n",
    "\n",
    "使用 as 给函数指定别名\n",
    "- from pizza import make_pizza as mp\n",
    "- import pizza as p\n",
    "\n",
    "如果要导入的函数的名称太⻓或者可能与程序中既有的名称冲突,可指定简短而独一无二的别名(alias):函数的另一个名称,类似于外号。要给函数指定这种特殊的外号,需要在导入时这样做。\n",
    "\n",
    "使用星号(*)运算符可让 Python 导入模块中的所有函数\n",
    "- from module_name import *\n",
    "\n",
    "在使用并非自己编写的大型模块时,最好不要使用这种导入方法,因为如果模块中有函数的名称与当前项目中既有的名称相同,可能导致意想不到的结果:\n",
    "\n",
    "Python 可能会因为遇到多个名称相同的函数或变量而覆盖函数,而不是分别导入所有的函数。\n",
    "\n",
    "最佳的做法是,要么只导入需要使用的函数,要么导入整个模块并使用点号。这都能让代码更清晰,更容易阅读和理解。"
   ],
   "id": "f47bf75507be065"
  },
  {
   "metadata": {},
   "cell_type": "markdown",
   "source": [
    "# 9 类class\n",
    "## __init__() 方法\n",
    "类中的函数称为方法。__init__()是一个特殊方法,每当你根据类创建新实例时,Python 都会自动运行它\n",
    "\n",
    "务必确保__init__() 的两边都有两个下划线\n",
    "\n",
    "可通过实例访问的变量称为属性(attribute)\n"
   ],
   "id": "e9a9db32de11d179"
  },
  {
   "metadata": {},
   "cell_type": "code",
   "outputs": [],
   "execution_count": null,
   "source": [
    "class Dog:       \n",
    "    \"\"\"一次模拟小狗的简单尝试\"\"\"\n",
    "    def __init__(self, name, age, gender):         \n",
    "        \"\"\"初始化属性 name 和 age\"\"\"\n",
    "        self.name = name\n",
    "        self.age = age\n",
    "        #给属性指定默认值\n",
    "        self.gender = 0\n",
    "    def sit(self): \n",
    "        \"\"\"模拟小狗收到命令时坐下\"\"\"\n",
    "        print(f\"{self.name} is now sitting.\") \n",
    "    def roll_over(self):           \n",
    "        \"\"\"模拟小狗收到命令时打滚\"\"\"           \n",
    "        print(f\"{self.name} rolled over!\")\n",
    "    def gender(self):\n",
    "        if self.gender == 0:\n",
    "            return \"Male\"\n",
    "        else\n",
    "            return \"Female\"\n",
    "        \n",
    "my_dog = Dog('Willie', 6)\n",
    "your_dog = Dog('Lucy', 3)\n",
    "# 要访问实例的属性,可使用点号\n",
    "print(f\"My dog's name is {my_dog.name}.\")\n",
    "print(f\"Your dog is {your_dog.age} years old.\")\n",
    "# 调用\n",
    "my_dog.sit() \n",
    "your_dog.roll_over()\n",
    "# 通过方法修改属性的值\n",
    "print(f\"My dog's gender is {my_dog.gender}.\")\n",
    "your_dog.gender.update_odometer(1)\n",
    "print(f\"My dog's gender is {your_dog.gender}.\")\n"
   ],
   "id": "7965efbe5387920f"
  },
  {
   "metadata": {},
   "cell_type": "code",
   "outputs": [],
   "execution_count": null,
   "source": [
    "class Car:        \n",
    "    def __init__(self, make, model, year):           \n",
    "        \"\"\"初始化描述汽⻋的属性\"\"\"           \n",
    "        self.make = make           \n",
    "        self.model = model           \n",
    "        self.year = year        \n",
    "        self.odometer_reading = 0      \n",
    "    def get_descriptive_name(self):          \n",
    "        \"\"\"返回格式规范的描述性信息\"\"\"           \n",
    "        long_name = f\"{self.year} {self.make} {self.model}\"           \n",
    "        return long_name.title()\n",
    "    \n",
    "    def read_odometer(self):           \n",
    "        \"\"\"打印一条指出汽⻋行驶里程的消息\"\"\"           \n",
    "        print(f\"This car has {self.odometer_reading} miles on it.\")    \n",
    "    # update_odometer() 方法扩展\n",
    "    def update_odometer(self, mileage):           \n",
    "        \"\"\"           \n",
    "        将里程表读数设置为指定的值           \n",
    "        禁止将里程表读数往回调           \n",
    "        \"\"\"        \n",
    "        if mileage >= self.odometer_reading:\n",
    "            self.odometer_reading = mileage           \n",
    "        else:\n",
    "            print(\"You can't roll back an odometer!\")\n",
    "    # 通过方法让属性的值递增\n",
    "    def increment_odometer(self, miles):           \n",
    "        \"\"\"让里程表读数增加指定的量\"\"\"           \n",
    "        self.odometer_reading += miles        \n",
    "\n",
    "my_new_car = Car('audi', 'a4', 2024)\n",
    "print(my_new_car.get_descriptive_name())  \n",
    "my_new_car.update_odometer(23)\n",
    "my_new_car.read_odometer()\n",
    "\n",
    "my_used_car = Car('subaru', 'outback', 2019)\n",
    "print(my_used_car.get_descriptive_name())\n",
    "my_used_car.update_odometer(23_500)\n",
    "my_used_car.read_odometer()\n",
    "my_used_car.increment_odometer(100)\n",
    "my_used_car.read_odometer()"
   ],
   "id": "c04472f5c8c3c2f0"
  },
  {
   "metadata": {},
   "cell_type": "markdown",
   "source": [
    "## 继承与导入\n",
    "原有的类称为父类(parent class),也称为超类(superclass)，而新类称为子类(child class)。子类不仅继承了父类的所有属性和方法,还可定义自己的属性和方法。\n",
    "\n",
    "在创建子类时,父类必须包含在当前文件中,且位于子类前面。\n",
    "\n",
    "在定义子类时,必须在括号内指定父类的名称。\n",
    "\n",
    "super() 函数,调用父类的方法\n",
    "\n",
    "如果父类中的一些方法不能满足子类的需求,就可以用下面的办法重写:\n",
    "- 在子类中定义一个与要重写的父类方法同名的方法。\n",
    "这样,Python 将忽略这个父类方法,只关注你在子类中定义的相应方法。\n",
    "\n",
    "组合(composition):将大型类拆分成多个协同工作的小类\n",
    "\n",
    "导入类的方式和导入函数一样\n",
    "- from random import randint"
   ],
   "id": "5a5f833ed35ca31f"
  },
  {
   "metadata": {},
   "cell_type": "code",
   "outputs": [],
   "execution_count": null,
   "source": [
    "class Car:\n",
    "    #--snip--\n",
    "    \n",
    "class ElectricCar(Car):       \n",
    "    \"\"\"电动汽⻋的独特之处\"\"\"\n",
    "    def __init__(self, make, model, year):\n",
    "        \"\"\"           \n",
    "        先初始化父类的属性,再初始化电动汽⻋特有的属性           \n",
    "        \"\"\"           \n",
    "        super().__init__(make, model, year)\n",
    "        self.battery_size = 40\n",
    "    def describe_battery(self):\n",
    "        \"\"\"打印一条描述电池容量的消息\"\"\"           \n",
    "        print(f\"This car has a {self.battery_size}-kWh battery.\")    \n",
    "        \n",
    "my_leaf = ElectricCar('nissan', 'leaf', 2024)   \n",
    "print(my_leaf.get_descriptive_name())   \n",
    "my_leaf.describe_battery()"
   ],
   "id": "c9584a1d92970b9"
  },
  {
   "metadata": {},
   "cell_type": "markdown",
   "source": [
    "## Python 标准库\n",
    "\n",
    "randint()将两个整数作为参数, 并随机返回一个位于这两个整数之间(含)的整数\n",
    "\n",
    "choice()将一个列表或元组作为参数,并随机返回其中的一个元素\n",
    "\n",
    "sample()\n"
   ],
   "id": "4b47930f521b6685"
  },
  {
   "metadata": {},
   "cell_type": "markdown",
   "source": [
    "# 10 文件和异常\n",
    "\n",
    "read_text() \n",
    "- 在到达文件末尾时会返回一个空字符串,而这个空字符串会被显示为一个空行。\n",
    "- 要删除这个多出来的空行,可对字符串变量 contents 调用 rstrip():\n",
    "contents = path.read_text().rstrip()\n",
    "\n",
    "Tips: 在显示文件路径时,Windows 系统使用反斜杠(\\)而不是斜杠(/)。但是你在代码中应该始终使用斜杠,即便在 Windows 系统中也是如此。在与你或其他用户的系统交互时,pathlib 库会自动使用正确的路径表示方法。\n",
    "\n",
    "splitlines() 方法: 将冗⻓的字符串转换为一系列行,再使用for 循环以每次一行的方式检查文件中的各行"
   ],
   "id": "c0a5704678b107ba"
  },
  {
   "metadata": {},
   "cell_type": "code",
   "outputs": [],
   "execution_count": null,
   "source": [
    "from pathlib import Path    \n",
    "path = Path('pi_digits.txt')\n",
    "contents = path.read_text()\n",
    "lines = contents.splitlines()\n",
    "for line in lines:       \n",
    "    print(line)"
   ],
   "id": "201f6b2b81faa4fa"
  },
  {
   "metadata": {},
   "cell_type": "markdown",
   "source": [
    "write_text() 定义文件路径后可写入数据\n",
    "\n",
    "Tips: Python 只能将字符串写入文本文件。如果要将数值数据存储到文本文件中,必须先使用函数 str() 将其转换为字符串格式。\n",
    "\n",
    "在对 path 对象调用 write_text() 方法时,务必谨慎。如果指定的文件已存在, write_text() 将删除其内容,并将指定的内容写入其中。\n",
    "- 使用 pathlib 检查指定的文件是否存在。"
   ],
   "id": "8ebf0955cbad4056"
  },
  {
   "metadata": {},
   "cell_type": "code",
   "outputs": [],
   "execution_count": null,
   "source": [
    "from pathlib import Path  \n",
    "contents = \"I love programming.\\n\" \n",
    "contents += \"I love creating new games.\\n\" \n",
    "contents += \"I also love working with data.\\n\"  \n",
    "path = Path('programming.txt') \n",
    "path.write_text(contents)"
   ],
   "id": "91eeaa876d71b788"
  },
  {
   "metadata": {},
   "cell_type": "markdown",
   "source": [
    "## 异常exception\n",
    "\n",
    "将可能引起异常的代码放入try-except 代码块（处理 ZeroDivisionError 异常）"
   ],
   "id": "5559ce803431ff59"
  },
  {
   "metadata": {},
   "cell_type": "code",
   "outputs": [],
   "execution_count": null,
   "source": [
    "try:     \n",
    "    print(5/0) \n",
    "except ZeroDivisionError:     \n",
    "    print(\"You can't divide by zero!\")"
   ],
   "id": "b6feb6c72b3c6132"
  },
  {
   "metadata": {},
   "cell_type": "code",
   "outputs": [],
   "execution_count": null,
   "source": [
    "from pathlib import Path    \n",
    "def count_words(path): \n",
    "    \"\"\"计算一个文件大致包含多少个单词\"\"\"     \n",
    "    try:           \n",
    "        contents = path.read_text(encoding='utf-8')       \n",
    "      except FileNotFoundError:           \n",
    "        print(f\"Sorry, the file {path} does not exist.\")       \n",
    "      else:           \n",
    "        # 计算文件大致包含多少个单词           \n",
    "        words = contents.split()           \n",
    "        num_words = len(words)           \n",
    "        print(f\"The file {path} has about {num_words} words.\")    \n",
    "path = Path('alice.txt')   \n",
    "count_words(path)"
   ],
   "id": "a2eefe7214985e0e"
  },
  {
   "metadata": {},
   "cell_type": "markdown",
   "source": "静默失败",
   "id": "32d1a050426d91dd"
  },
  {
   "metadata": {},
   "cell_type": "code",
   "outputs": [],
   "execution_count": null,
   "source": [
    "# ————————————snip—————————————— #\n",
    "try:           \n",
    "        contents = path.read_text(encoding='utf-8')       \n",
    "      except FileNotFoundError:           \n",
    "        pass"
   ],
   "id": "7fb2c07d99b936f7"
  },
  {
   "metadata": {},
   "cell_type": "markdown",
   "source": "# 11 测试代码",
   "id": "829ca5267da57880"
  },
  {
   "metadata": {},
   "cell_type": "markdown",
   "source": [
    "# 15 生成数据\n",
    "\n"
   ],
   "id": "fd35bba1b2f57d60"
  },
  {
   "metadata": {},
   "cell_type": "markdown",
   "source": "# 16 下载数据",
   "id": "713271367d54e6ac"
  },
  {
   "metadata": {},
   "cell_type": "markdown",
   "source": "# 17 使用API",
   "id": "a597e163322216a9"
  },
  {
   "metadata": {},
   "cell_type": "markdown",
   "source": "",
   "id": "3b643fa4530008b5"
  }
 ],
 "metadata": {
  "kernelspec": {
   "display_name": "Python 3",
   "language": "python",
   "name": "python3"
  },
  "language_info": {
   "codemirror_mode": {
    "name": "ipython",
    "version": 2
   },
   "file_extension": ".py",
   "mimetype": "text/x-python",
   "name": "python",
   "nbconvert_exporter": "python",
   "pygments_lexer": "ipython2",
   "version": "2.7.6"
  }
 },
 "nbformat": 4,
 "nbformat_minor": 5
}
